{
 "cells": [
  {
   "cell_type": "markdown",
   "metadata": {},
   "source": [
    "# Build Script\n",
    "\n",
    "* Script to help build the image"
   ]
  },
  {
   "cell_type": "code",
   "execution_count": 16,
   "metadata": {
    "tags": []
   },
   "outputs": [
    {
     "name": "stderr",
     "output_type": "stream",
     "text": [
      "Creating temporary tarball archive of 10 file(s) totalling 11.6 KiB before compression.\n",
      "Uploading tarball of [.] to [gs://chat-lewi_cloudbuild/source/1683158736.208204-43440b469b8e478f9139482099c50106.tgz]\n"
     ]
    },
    {
     "name": "stdout",
     "output_type": "stream",
     "text": [
      "createTime: '2023-05-04T00:05:37.973663675Z'\n",
      "id: 35dea915-83f3-4d63-993e-a6b0d7fd7d0a\n",
      "logUrl: https://console.cloud.google.com/cloud-build/builds/35dea915-83f3-4d63-993e-a6b0d7fd7d0a?project=197678265256\n",
      "logsBucket: gs://197678265256.cloudbuild-logs.googleusercontent.com\n",
      "name: projects/197678265256/locations/global/builds/35dea915-83f3-4d63-993e-a6b0d7fd7d0a\n",
      "options:\n",
      "  logging: LEGACY\n",
      "  pool: {}\n",
      "projectId: chat-lewi\n",
      "queueTtl: 3600s\n",
      "source:\n",
      "  storageSource:\n",
      "    bucket: chat-lewi_cloudbuild\n",
      "    generation: '1683158737381714'\n",
      "    object: source/1683158736.208204-43440b469b8e478f9139482099c50106.tgz\n",
      "sourceProvenance:\n",
      "  resolvedStorageSource:\n",
      "    bucket: chat-lewi_cloudbuild\n",
      "    generation: '1683158737381714'\n",
      "    object: source/1683158736.208204-43440b469b8e478f9139482099c50106.tgz\n",
      "status: QUEUED\n",
      "steps:\n",
      "- args:\n",
      "  - --destination=gcr.io/chat-lewi/roboweb/kubeflow/jupyterlab:35dea915-83f3-4d63-993e-a6b0d7fd7d0a\n",
      "  - --destination=gcr.io/chat-lewi/roboweb/kubeflow/jupyterlab:local-87866c2\n",
      "  - --destination=gcr.io/chat-lewi/roboweb/kubeflow/jupyterlab:latest\n",
      "  - --dockerfile=Dockerfile\n",
      "  - --cache=false\n",
      "  name: gcr.io/kaniko-project/executor:latest\n",
      "substitutions:\n",
      "  COMMIT_SHA: local-87866c2\n",
      "tags:\n",
      "- dev\n",
      "timeout: 3600s\n"
     ]
    },
    {
     "name": "stderr",
     "output_type": "stream",
     "text": [
      "Created [https://cloudbuild.googleapis.com/v1/projects/chat-lewi/locations/global/builds/35dea915-83f3-4d63-993e-a6b0d7fd7d0a].\n",
      "Logs are available at [ https://console.cloud.google.com/cloud-build/builds/35dea915-83f3-4d63-993e-a6b0d7fd7d0a?project=197678265256 ].\n"
     ]
    }
   ],
   "source": [
    "import os\n",
    "import subprocess\n",
    "import git\n",
    "\n",
    "def build_image():\n",
    "    # Open an existing Git repository\n",
    "    cwd = os.getcwd()\n",
    "    repo_root = os.path.abspath(os.path.join(cwd, \"..\"))\n",
    "    repo = git.Repo(repo_root)\n",
    "    commit = repo.commit().hexsha[0:7]\n",
    "    output = subprocess.check_call([\"gcloud\", \"builds\", \"submit\", \"--async\", \"--config=cloudbuild.yaml\",\n",
    "                                    f\"--substitutions=COMMIT_SHA=local-{commit}\", \"--format=yaml\"])\n",
    "                                    \n",
    "    return output\n",
    "        \n",
    "output = build_image()        "
   ]
  }
 ],
 "metadata": {
  "kernelspec": {
   "display_name": "Python 3 (ipykernel)",
   "language": "python",
   "name": "python3"
  },
  "language_info": {
   "codemirror_mode": {
    "name": "ipython",
    "version": 3
   },
   "file_extension": ".py",
   "mimetype": "text/x-python",
   "name": "python",
   "nbconvert_exporter": "python",
   "pygments_lexer": "ipython3",
   "version": "3.11.2"
  }
 },
 "nbformat": 4,
 "nbformat_minor": 4
}
